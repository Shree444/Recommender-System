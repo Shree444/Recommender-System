{
 "cells": [
  {
   "cell_type": "markdown",
   "metadata": {
    "_cell_guid": "79c7e3d0-c299-4dcb-8224-4455121ee9b0",
    "_uuid": "d629ff2d2480ee46fbb7e2d37f6b5fab8052498a",
    "collapsed": true,
    "papermill": {
     "duration": 0.0442,
     "end_time": "2021-01-11T15:14:00.575153",
     "exception": false,
     "start_time": "2021-01-11T15:14:00.530953",
     "status": "completed"
    },
    "tags": []
   },
   "source": [
    "# **<h1 align =\"middle\"><b> Netflix Recommender System</b></h1>**"
   ]
  },
  {
   "cell_type": "code",
   "execution_count": 1,
   "metadata": {
    "execution": {
     "iopub.execute_input": "2021-01-11T15:14:00.956206Z",
     "iopub.status.busy": "2021-01-11T15:14:00.955471Z",
     "iopub.status.idle": "2021-01-11T15:14:02.144091Z",
     "shell.execute_reply": "2021-01-11T15:14:02.144675Z"
    },
    "papermill": {
     "duration": 1.237663,
     "end_time": "2021-01-11T15:14:02.144824",
     "exception": false,
     "start_time": "2021-01-11T15:14:00.907161",
     "status": "completed"
    },
    "tags": []
   },
   "outputs": [],
   "source": [
    "import pandas as pd  #pandas to load datasets\n",
    "import numpy as np  #numpy for linear algebra\n",
    "import matplotlib.pyplot as plt  #matplotlib for making plots\n",
    "import seaborn as sns  #seaborn for making plots"
   ]
  },
  {
   "cell_type": "markdown",
   "metadata": {
    "papermill": {
     "duration": 0.046317,
     "end_time": "2021-01-11T15:14:02.236663",
     "exception": false,
     "start_time": "2021-01-11T15:14:02.190346",
     "status": "completed"
    },
    "tags": []
   },
   "source": [
    "<p><img src=\"data:image/png;base64,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\" width=\"40\" align = \"middle\"></p>\n",
    "\n",
    "### **<h1 align =\"middle\"><b> NETFLIX RECOMMENDER SYSTEM </b></h1>**"
   ]
  },
  {
   "cell_type": "markdown",
   "metadata": {
    "papermill": {
     "duration": 0.045081,
     "end_time": "2021-01-11T15:14:02.326775",
     "exception": false,
     "start_time": "2021-01-11T15:14:02.281694",
     "status": "completed"
    },
    "tags": []
   },
   "source": [
    "### **Recommender systems try to automate aspects of a completely different information discovery model where people try to find other people with similar tastes and then ask them to suggest new things.**"
   ]
  },
  {
   "cell_type": "code",
   "execution_count": 2,
   "metadata": {
    "execution": {
     "iopub.execute_input": "2021-01-11T15:14:02.421939Z",
     "iopub.status.busy": "2021-01-11T15:14:02.421245Z",
     "iopub.status.idle": "2021-01-11T15:14:02.537621Z",
     "shell.execute_reply": "2021-01-11T15:14:02.538182Z"
    },
    "papermill": {
     "duration": 0.16574,
     "end_time": "2021-01-11T15:14:02.538347",
     "exception": false,
     "start_time": "2021-01-11T15:14:02.372607",
     "status": "completed"
    },
    "tags": []
   },
   "outputs": [
    {
     "data": {
      "text/html": [
       "<div>\n",
       "<style scoped>\n",
       "    .dataframe tbody tr th:only-of-type {\n",
       "        vertical-align: middle;\n",
       "    }\n",
       "\n",
       "    .dataframe tbody tr th {\n",
       "        vertical-align: top;\n",
       "    }\n",
       "\n",
       "    .dataframe thead th {\n",
       "        text-align: right;\n",
       "    }\n",
       "</style>\n",
       "<table border=\"1\" class=\"dataframe\">\n",
       "  <thead>\n",
       "    <tr style=\"text-align: right;\">\n",
       "      <th></th>\n",
       "      <th>show_id</th>\n",
       "      <th>type</th>\n",
       "      <th>title</th>\n",
       "      <th>director</th>\n",
       "      <th>cast</th>\n",
       "      <th>country</th>\n",
       "      <th>date_added</th>\n",
       "      <th>release_year</th>\n",
       "      <th>rating</th>\n",
       "      <th>duration</th>\n",
       "      <th>listed_in</th>\n",
       "      <th>description</th>\n",
       "    </tr>\n",
       "  </thead>\n",
       "  <tbody>\n",
       "    <tr>\n",
       "      <th>0</th>\n",
       "      <td>s1</td>\n",
       "      <td>Movie</td>\n",
       "      <td>Dick Johnson Is Dead</td>\n",
       "      <td>Kirsten Johnson</td>\n",
       "      <td>NaN</td>\n",
       "      <td>United States</td>\n",
       "      <td>September 25, 2021</td>\n",
       "      <td>2020</td>\n",
       "      <td>PG-13</td>\n",
       "      <td>90 min</td>\n",
       "      <td>Documentaries</td>\n",
       "      <td>As her father nears the end of his life, filmm...</td>\n",
       "    </tr>\n",
       "    <tr>\n",
       "      <th>1</th>\n",
       "      <td>s2</td>\n",
       "      <td>TV Show</td>\n",
       "      <td>Blood &amp; Water</td>\n",
       "      <td>NaN</td>\n",
       "      <td>Ama Qamata, Khosi Ngema, Gail Mabalane, Thaban...</td>\n",
       "      <td>South Africa</td>\n",
       "      <td>September 24, 2021</td>\n",
       "      <td>2021</td>\n",
       "      <td>TV-MA</td>\n",
       "      <td>2 Seasons</td>\n",
       "      <td>International TV Shows, TV Dramas, TV Mysteries</td>\n",
       "      <td>After crossing paths at a party, a Cape Town t...</td>\n",
       "    </tr>\n",
       "    <tr>\n",
       "      <th>2</th>\n",
       "      <td>s3</td>\n",
       "      <td>TV Show</td>\n",
       "      <td>Ganglands</td>\n",
       "      <td>Julien Leclercq</td>\n",
       "      <td>Sami Bouajila, Tracy Gotoas, Samuel Jouy, Nabi...</td>\n",
       "      <td>NaN</td>\n",
       "      <td>September 24, 2021</td>\n",
       "      <td>2021</td>\n",
       "      <td>TV-MA</td>\n",
       "      <td>1 Season</td>\n",
       "      <td>Crime TV Shows, International TV Shows, TV Act...</td>\n",
       "      <td>To protect his family from a powerful drug lor...</td>\n",
       "    </tr>\n",
       "    <tr>\n",
       "      <th>3</th>\n",
       "      <td>s4</td>\n",
       "      <td>TV Show</td>\n",
       "      <td>Jailbirds New Orleans</td>\n",
       "      <td>NaN</td>\n",
       "      <td>NaN</td>\n",
       "      <td>NaN</td>\n",
       "      <td>September 24, 2021</td>\n",
       "      <td>2021</td>\n",
       "      <td>TV-MA</td>\n",
       "      <td>1 Season</td>\n",
       "      <td>Docuseries, Reality TV</td>\n",
       "      <td>Feuds, flirtations and toilet talk go down amo...</td>\n",
       "    </tr>\n",
       "    <tr>\n",
       "      <th>4</th>\n",
       "      <td>s5</td>\n",
       "      <td>TV Show</td>\n",
       "      <td>Kota Factory</td>\n",
       "      <td>NaN</td>\n",
       "      <td>Mayur More, Jitendra Kumar, Ranjan Raj, Alam K...</td>\n",
       "      <td>India</td>\n",
       "      <td>September 24, 2021</td>\n",
       "      <td>2021</td>\n",
       "      <td>TV-MA</td>\n",
       "      <td>2 Seasons</td>\n",
       "      <td>International TV Shows, Romantic TV Shows, TV ...</td>\n",
       "      <td>In a city of coaching centers known to train I...</td>\n",
       "    </tr>\n",
       "  </tbody>\n",
       "</table>\n",
       "</div>"
      ],
      "text/plain": [
       "  show_id     type                  title         director  \\\n",
       "0      s1    Movie   Dick Johnson Is Dead  Kirsten Johnson   \n",
       "1      s2  TV Show          Blood & Water              NaN   \n",
       "2      s3  TV Show              Ganglands  Julien Leclercq   \n",
       "3      s4  TV Show  Jailbirds New Orleans              NaN   \n",
       "4      s5  TV Show           Kota Factory              NaN   \n",
       "\n",
       "                                                cast        country  \\\n",
       "0                                                NaN  United States   \n",
       "1  Ama Qamata, Khosi Ngema, Gail Mabalane, Thaban...   South Africa   \n",
       "2  Sami Bouajila, Tracy Gotoas, Samuel Jouy, Nabi...            NaN   \n",
       "3                                                NaN            NaN   \n",
       "4  Mayur More, Jitendra Kumar, Ranjan Raj, Alam K...          India   \n",
       "\n",
       "           date_added  release_year rating   duration  \\\n",
       "0  September 25, 2021          2020  PG-13     90 min   \n",
       "1  September 24, 2021          2021  TV-MA  2 Seasons   \n",
       "2  September 24, 2021          2021  TV-MA   1 Season   \n",
       "3  September 24, 2021          2021  TV-MA   1 Season   \n",
       "4  September 24, 2021          2021  TV-MA  2 Seasons   \n",
       "\n",
       "                                           listed_in  \\\n",
       "0                                      Documentaries   \n",
       "1    International TV Shows, TV Dramas, TV Mysteries   \n",
       "2  Crime TV Shows, International TV Shows, TV Act...   \n",
       "3                             Docuseries, Reality TV   \n",
       "4  International TV Shows, Romantic TV Shows, TV ...   \n",
       "\n",
       "                                         description  \n",
       "0  As her father nears the end of his life, filmm...  \n",
       "1  After crossing paths at a party, a Cape Town t...  \n",
       "2  To protect his family from a powerful drug lor...  \n",
       "3  Feuds, flirtations and toilet talk go down amo...  \n",
       "4  In a city of coaching centers known to train I...  "
      ]
     },
     "execution_count": 2,
     "metadata": {},
     "output_type": "execute_result"
    }
   ],
   "source": [
    "netflix_dataset = pd.read_csv(r\"C:\\Users\\Lenovo\\SSN Study Materials\\ML My Works\\Data Science Projects\\Movie Recommendation\\Netflix Dataset.csv\")\n",
    "netflix_dataset.head()"
   ]
  },
  {
   "cell_type": "code",
   "execution_count": 3,
   "metadata": {
    "execution": {
     "iopub.execute_input": "2021-01-11T15:14:02.634330Z",
     "iopub.status.busy": "2021-01-11T15:14:02.633641Z",
     "iopub.status.idle": "2021-01-11T15:14:02.649054Z",
     "shell.execute_reply": "2021-01-11T15:14:02.649592Z"
    },
    "papermill": {
     "duration": 0.064779,
     "end_time": "2021-01-11T15:14:02.649733",
     "exception": false,
     "start_time": "2021-01-11T15:14:02.584954",
     "status": "completed"
    },
    "tags": []
   },
   "outputs": [
    {
     "data": {
      "text/plain": [
       "show_id         8807\n",
       "type            8807\n",
       "title           8807\n",
       "director        6173\n",
       "cast            7982\n",
       "country         7976\n",
       "date_added      8797\n",
       "release_year    8807\n",
       "rating          8803\n",
       "duration        8804\n",
       "listed_in       8807\n",
       "description     8807\n",
       "dtype: int64"
      ]
     },
     "execution_count": 3,
     "metadata": {},
     "output_type": "execute_result"
    }
   ],
   "source": [
    "netflix_dataset.count()"
   ]
  },
  {
   "cell_type": "markdown",
   "metadata": {
    "papermill": {
     "duration": 0.047332,
     "end_time": "2021-01-11T15:14:02.743266",
     "exception": false,
     "start_time": "2021-01-11T15:14:02.695934",
     "status": "completed"
    },
    "tags": []
   },
   "source": [
    "# **<center>Content-Based Recommendation System</center>**"
   ]
  },
  {
   "attachments": {
    "NetflixRecommender.jpg": {
     "image/jpeg": "[encoded data removed]"
    }
   },
   "cell_type": "markdown",
   "metadata": {
    "papermill": {
     "duration": 0.04722,
     "end_time": "2021-01-11T15:14:02.836744",
     "exception": false,
     "start_time": "2021-01-11T15:14:02.789524",
     "status": "completed"
    },
    "tags": []
   },
   "source": [
    "## <center><u>Content-Based Filtering</u></center>\n",
    "\n",
    "\n",
    "![NetflixRecommender.jpg](attachment:NetflixRecommender.jpg)"
   ]
  },
  {
   "cell_type": "markdown",
   "metadata": {
    "papermill": {
     "duration": 0.049066,
     "end_time": "2021-01-11T15:14:02.933019",
     "exception": false,
     "start_time": "2021-01-11T15:14:02.883953",
     "status": "completed"
    },
    "tags": []
   },
   "source": [
    "### **A content-based recommender works with data that the user provides, either explicitly (rating) or implicitly (clicking on a link). Based on that data, a user profile is generated, which is then used to make suggestions to the user.**"
   ]
  },
  {
   "cell_type": "markdown",
   "metadata": {
    "papermill": {
     "duration": 0.048709,
     "end_time": "2021-01-11T15:14:03.028068",
     "exception": false,
     "start_time": "2021-01-11T15:14:02.979359",
     "status": "completed"
    },
    "tags": []
   },
   "source": [
    "#### **Filling NaN values with empty String ' '**"
   ]
  },
  {
   "cell_type": "code",
   "execution_count": 4,
   "metadata": {
    "execution": {
     "iopub.execute_input": "2021-01-11T15:14:03.135597Z",
     "iopub.status.busy": "2021-01-11T15:14:03.134877Z",
     "iopub.status.idle": "2021-01-11T15:14:03.155220Z",
     "shell.execute_reply": "2021-01-11T15:14:03.154665Z"
    },
    "papermill": {
     "duration": 0.078732,
     "end_time": "2021-01-11T15:14:03.155355",
     "exception": false,
     "start_time": "2021-01-11T15:14:03.076623",
     "status": "completed"
    },
    "tags": []
   },
   "outputs": [
    {
     "data": {
      "text/html": [
       "<div>\n",
       "<style scoped>\n",
       "    .dataframe tbody tr th:only-of-type {\n",
       "        vertical-align: middle;\n",
       "    }\n",
       "\n",
       "    .dataframe tbody tr th {\n",
       "        vertical-align: top;\n",
       "    }\n",
       "\n",
       "    .dataframe thead th {\n",
       "        text-align: right;\n",
       "    }\n",
       "</style>\n",
       "<table border=\"1\" class=\"dataframe\">\n",
       "  <thead>\n",
       "    <tr style=\"text-align: right;\">\n",
       "      <th></th>\n",
       "      <th>show_id</th>\n",
       "      <th>type</th>\n",
       "      <th>title</th>\n",
       "      <th>director</th>\n",
       "      <th>cast</th>\n",
       "      <th>country</th>\n",
       "      <th>date_added</th>\n",
       "      <th>release_year</th>\n",
       "      <th>rating</th>\n",
       "      <th>duration</th>\n",
       "      <th>listed_in</th>\n",
       "      <th>description</th>\n",
       "    </tr>\n",
       "  </thead>\n",
       "  <tbody>\n",
       "    <tr>\n",
       "      <th>0</th>\n",
       "      <td>s1</td>\n",
       "      <td>Movie</td>\n",
       "      <td>Dick Johnson Is Dead</td>\n",
       "      <td>Kirsten Johnson</td>\n",
       "      <td></td>\n",
       "      <td>United States</td>\n",
       "      <td>September 25, 2021</td>\n",
       "      <td>2020</td>\n",
       "      <td>PG-13</td>\n",
       "      <td>90 min</td>\n",
       "      <td>Documentaries</td>\n",
       "      <td>As her father nears the end of his life, filmm...</td>\n",
       "    </tr>\n",
       "    <tr>\n",
       "      <th>1</th>\n",
       "      <td>s2</td>\n",
       "      <td>TV Show</td>\n",
       "      <td>Blood &amp; Water</td>\n",
       "      <td></td>\n",
       "      <td>Ama Qamata, Khosi Ngema, Gail Mabalane, Thaban...</td>\n",
       "      <td>South Africa</td>\n",
       "      <td>September 24, 2021</td>\n",
       "      <td>2021</td>\n",
       "      <td>TV-MA</td>\n",
       "      <td>2 Seasons</td>\n",
       "      <td>International TV Shows, TV Dramas, TV Mysteries</td>\n",
       "      <td>After crossing paths at a party, a Cape Town t...</td>\n",
       "    </tr>\n",
       "    <tr>\n",
       "      <th>2</th>\n",
       "      <td>s3</td>\n",
       "      <td>TV Show</td>\n",
       "      <td>Ganglands</td>\n",
       "      <td>Julien Leclercq</td>\n",
       "      <td>Sami Bouajila, Tracy Gotoas, Samuel Jouy, Nabi...</td>\n",
       "      <td></td>\n",
       "      <td>September 24, 2021</td>\n",
       "      <td>2021</td>\n",
       "      <td>TV-MA</td>\n",
       "      <td>1 Season</td>\n",
       "      <td>Crime TV Shows, International TV Shows, TV Act...</td>\n",
       "      <td>To protect his family from a powerful drug lor...</td>\n",
       "    </tr>\n",
       "    <tr>\n",
       "      <th>3</th>\n",
       "      <td>s4</td>\n",
       "      <td>TV Show</td>\n",
       "      <td>Jailbirds New Orleans</td>\n",
       "      <td></td>\n",
       "      <td></td>\n",
       "      <td></td>\n",
       "      <td>September 24, 2021</td>\n",
       "      <td>2021</td>\n",
       "      <td>TV-MA</td>\n",
       "      <td>1 Season</td>\n",
       "      <td>Docuseries, Reality TV</td>\n",
       "      <td>Feuds, flirtations and toilet talk go down amo...</td>\n",
       "    </tr>\n",
       "    <tr>\n",
       "      <th>4</th>\n",
       "      <td>s5</td>\n",
       "      <td>TV Show</td>\n",
       "      <td>Kota Factory</td>\n",
       "      <td></td>\n",
       "      <td>Mayur More, Jitendra Kumar, Ranjan Raj, Alam K...</td>\n",
       "      <td>India</td>\n",
       "      <td>September 24, 2021</td>\n",
       "      <td>2021</td>\n",
       "      <td>TV-MA</td>\n",
       "      <td>2 Seasons</td>\n",
       "      <td>International TV Shows, Romantic TV Shows, TV ...</td>\n",
       "      <td>In a city of coaching centers known to train I...</td>\n",
       "    </tr>\n",
       "  </tbody>\n",
       "</table>\n",
       "</div>"
      ],
      "text/plain": [
       "  show_id     type                  title         director  \\\n",
       "0      s1    Movie   Dick Johnson Is Dead  Kirsten Johnson   \n",
       "1      s2  TV Show          Blood & Water                    \n",
       "2      s3  TV Show              Ganglands  Julien Leclercq   \n",
       "3      s4  TV Show  Jailbirds New Orleans                    \n",
       "4      s5  TV Show           Kota Factory                    \n",
       "\n",
       "                                                cast        country  \\\n",
       "0                                                     United States   \n",
       "1  Ama Qamata, Khosi Ngema, Gail Mabalane, Thaban...   South Africa   \n",
       "2  Sami Bouajila, Tracy Gotoas, Samuel Jouy, Nabi...                  \n",
       "3                                                                     \n",
       "4  Mayur More, Jitendra Kumar, Ranjan Raj, Alam K...          India   \n",
       "\n",
       "           date_added  release_year rating   duration  \\\n",
       "0  September 25, 2021          2020  PG-13     90 min   \n",
       "1  September 24, 2021          2021  TV-MA  2 Seasons   \n",
       "2  September 24, 2021          2021  TV-MA   1 Season   \n",
       "3  September 24, 2021          2021  TV-MA   1 Season   \n",
       "4  September 24, 2021          2021  TV-MA  2 Seasons   \n",
       "\n",
       "                                           listed_in  \\\n",
       "0                                      Documentaries   \n",
       "1    International TV Shows, TV Dramas, TV Mysteries   \n",
       "2  Crime TV Shows, International TV Shows, TV Act...   \n",
       "3                             Docuseries, Reality TV   \n",
       "4  International TV Shows, Romantic TV Shows, TV ...   \n",
       "\n",
       "                                         description  \n",
       "0  As her father nears the end of his life, filmm...  \n",
       "1  After crossing paths at a party, a Cape Town t...  \n",
       "2  To protect his family from a powerful drug lor...  \n",
       "3  Feuds, flirtations and toilet talk go down amo...  \n",
       "4  In a city of coaching centers known to train I...  "
      ]
     },
     "execution_count": 4,
     "metadata": {},
     "output_type": "execute_result"
    }
   ],
   "source": [
    "fill_netflix_dataset = netflix_dataset.fillna(' ')\n",
    "fill_netflix_dataset.head()"
   ]
  },
  {
   "cell_type": "markdown",
   "metadata": {
    "papermill": {
     "duration": 0.046937,
     "end_time": "2021-01-11T15:14:03.249912",
     "exception": false,
     "start_time": "2021-01-11T15:14:03.202975",
     "status": "completed"
    },
    "tags": []
   },
   "source": [
    "### **Term Frequency(TF) and Inverse Document Frequency(IDF)**"
   ]
  },
  {
   "cell_type": "markdown",
   "metadata": {
    "papermill": {
     "duration": 0.048204,
     "end_time": "2021-01-11T15:14:03.346187",
     "exception": false,
     "start_time": "2021-01-11T15:14:03.297983",
     "status": "completed"
    },
    "tags": []
   },
   "source": [
    "**Term Frequency**, which measures how frequently a term occurs in a document. Since every document is different in length, it is possible that a term would appear much more times in long documents than shorter ones. Thus, the term frequency is often divided by the document length (aka. the total number of terms in the document) as a way of normalization:\n",
    "\n",
    "**TF(t) = (Number of times term t appears in a document) / (Total number of terms in the document)**\n",
    "\n",
    "\n",
    "**Inverse Document Frequency**, which measures how important a term is. While computing TF, all terms are considered equally important. However, it is known that certain terms, such as \"is\", \"of\", and \"that\", may appear a lot of times but have little importance. Thus we need to weigh down the frequent terms while scaling up the rare ones, by computing the following:\n",
    "\n",
    "**IDF(t) = log_e(Total number of documents / Number of documents with term t in it)**\n",
    "\n",
    "**TF-IDF** is used mainly because, Suppose we search for \"the fundamental of DataScience\" on Google. It is certain that \"the\" will occur more frequently than \"DataScience\" but the relative importance of \"DataScience\" is higher than \"the\" search query point of view.\n"
   ]
  },
  {
   "cell_type": "code",
   "execution_count": 5,
   "metadata": {
    "execution": {
     "iopub.execute_input": "2021-01-11T15:14:03.449626Z",
     "iopub.status.busy": "2021-01-11T15:14:03.448610Z",
     "iopub.status.idle": "2021-01-11T15:14:03.545541Z",
     "shell.execute_reply": "2021-01-11T15:14:03.546052Z"
    },
    "papermill": {
     "duration": 0.148631,
     "end_time": "2021-01-11T15:14:03.546207",
     "exception": false,
     "start_time": "2021-01-11T15:14:03.397576",
     "status": "completed"
    },
    "tags": []
   },
   "outputs": [],
   "source": [
    "from sklearn.feature_extraction.text import TfidfVectorizer"
   ]
  },
  {
   "cell_type": "code",
   "execution_count": 6,
   "metadata": {
    "execution": {
     "iopub.execute_input": "2021-01-11T15:14:03.646748Z",
     "iopub.status.busy": "2021-01-11T15:14:03.645694Z",
     "iopub.status.idle": "2021-01-11T15:14:03.921954Z",
     "shell.execute_reply": "2021-01-11T15:14:03.921020Z"
    },
    "papermill": {
     "duration": 0.327321,
     "end_time": "2021-01-11T15:14:03.922085",
     "exception": false,
     "start_time": "2021-01-11T15:14:03.594764",
     "status": "completed"
    },
    "tags": []
   },
   "outputs": [
    {
     "data": {
      "text/plain": [
       "(8807, 18895)"
      ]
     },
     "execution_count": 6,
     "metadata": {},
     "output_type": "execute_result"
    }
   ],
   "source": [
    "#Removing stop words \n",
    "tf_idf = TfidfVectorizer(stop_words='english')\n",
    "\n",
    "#Constructing TF-IDF matrix by transforming and fitting the data\n",
    "tf_idf_matrix = tf_idf.fit_transform(fill_netflix_dataset['description'])\n",
    "\n",
    "# shape of tf_idf_matrix\n",
    "tf_idf_matrix.shape"
   ]
  },
  {
   "cell_type": "markdown",
   "metadata": {
    "papermill": {
     "duration": 0.058753,
     "end_time": "2021-01-11T15:14:04.042962",
     "exception": false,
     "start_time": "2021-01-11T15:14:03.984209",
     "status": "completed"
    },
    "tags": []
   },
   "source": [
    "18895 words describing 8807 movies in the Netflix dataset"
   ]
  },
  {
   "attachments": {
    "download.png": {
     "image/png": "[encoded data removed]"
    }
   },
   "cell_type": "markdown",
   "metadata": {
    "papermill": {
     "duration": 0.047796,
     "end_time": "2021-01-11T15:14:04.146023",
     "exception": false,
     "start_time": "2021-01-11T15:14:04.098227",
     "status": "completed"
    },
    "tags": []
   },
   "source": [
    "### **Cosine Similarity**\n",
    "\n",
    "Cosine Similarity is used to calculate the numeric value that denotes the similarity between the two movies.\n",
    "\n",
    "![download.png](attachment:download.png)\n",
    "\n",
    "\n",
    "Now, we have used the TF-IDF Vectorizer, calculating the Dot product will directly give us the Cosine Similarity Score. Therefore, we will use **sklearn's linear_kernel** instead of cosine similarity since it calculate it much faster."
   ]
  },
  {
   "cell_type": "code",
   "execution_count": 7,
   "metadata": {
    "execution": {
     "iopub.execute_input": "2021-01-11T15:14:04.249812Z",
     "iopub.status.busy": "2021-01-11T15:14:04.249012Z",
     "iopub.status.idle": "2021-01-11T15:14:04.306051Z",
     "shell.execute_reply": "2021-01-11T15:14:04.306612Z"
    },
    "papermill": {
     "duration": 0.112647,
     "end_time": "2021-01-11T15:14:04.306776",
     "exception": false,
     "start_time": "2021-01-11T15:14:04.194129",
     "status": "completed"
    },
    "tags": []
   },
   "outputs": [],
   "source": [
    "from sklearn.metrics.pairwise import linear_kernel"
   ]
  },
  {
   "cell_type": "code",
   "execution_count": 8,
   "metadata": {
    "execution": {
     "iopub.execute_input": "2021-01-11T15:14:04.408952Z",
     "iopub.status.busy": "2021-01-11T15:14:04.408175Z",
     "iopub.status.idle": "2021-01-11T15:14:04.927656Z",
     "shell.execute_reply": "2021-01-11T15:14:04.928263Z"
    },
    "papermill": {
     "duration": 0.572728,
     "end_time": "2021-01-11T15:14:04.928444",
     "exception": false,
     "start_time": "2021-01-11T15:14:04.355716",
     "status": "completed"
    },
    "tags": []
   },
   "outputs": [],
   "source": [
    "# calculating the Cosine Similarity Score\n",
    "\n",
    "cosine_sim_score = linear_kernel(tf_idf_matrix, tf_idf_matrix)"
   ]
  },
  {
   "cell_type": "code",
   "execution_count": 9,
   "metadata": {
    "execution": {
     "iopub.execute_input": "2021-01-11T15:14:05.032463Z",
     "iopub.status.busy": "2021-01-11T15:14:05.031757Z",
     "iopub.status.idle": "2021-01-11T15:14:05.037545Z",
     "shell.execute_reply": "2021-01-11T15:14:05.038091Z"
    },
    "papermill": {
     "duration": 0.061009,
     "end_time": "2021-01-11T15:14:05.038240",
     "exception": false,
     "start_time": "2021-01-11T15:14:04.977231",
     "status": "completed"
    },
    "tags": []
   },
   "outputs": [
    {
     "data": {
      "text/plain": [
       "array([1.        , 0.        , 0.        , ..., 0.        , 0.01538292,\n",
       "       0.        ])"
      ]
     },
     "execution_count": 9,
     "metadata": {},
     "output_type": "execute_result"
    }
   ],
   "source": [
    "cosine_sim_score[0]"
   ]
  },
  {
   "cell_type": "markdown",
   "metadata": {
    "papermill": {
     "duration": 0.051551,
     "end_time": "2021-01-11T15:14:05.140592",
     "exception": false,
     "start_time": "2021-01-11T15:14:05.089041",
     "status": "completed"
    },
    "tags": []
   },
   "source": [
    "Now, we have a cosine similarity score matrix for all the movies in our Dataset."
   ]
  },
  {
   "cell_type": "code",
   "execution_count": 10,
   "metadata": {
    "execution": {
     "iopub.execute_input": "2021-01-11T15:14:05.242792Z",
     "iopub.status.busy": "2021-01-11T15:14:05.242099Z",
     "iopub.status.idle": "2021-01-11T15:14:05.249674Z",
     "shell.execute_reply": "2021-01-11T15:14:05.249056Z"
    },
    "papermill": {
     "duration": 0.059562,
     "end_time": "2021-01-11T15:14:05.249795",
     "exception": false,
     "start_time": "2021-01-11T15:14:05.190233",
     "status": "completed"
    },
    "tags": []
   },
   "outputs": [],
   "source": [
    "netflix_index = netflix_dataset.index\n",
    "titles = netflix_dataset['title']\n",
    "indices = pd.Series(netflix_index, index = titles).drop_duplicates()"
   ]
  },
  {
   "cell_type": "code",
   "execution_count": 11,
   "metadata": {
    "execution": {
     "iopub.execute_input": "2021-01-11T15:14:05.353248Z",
     "iopub.status.busy": "2021-01-11T15:14:05.352566Z",
     "iopub.status.idle": "2021-01-11T15:14:05.359736Z",
     "shell.execute_reply": "2021-01-11T15:14:05.360259Z"
    },
    "papermill": {
     "duration": 0.060641,
     "end_time": "2021-01-11T15:14:05.360519",
     "exception": false,
     "start_time": "2021-01-11T15:14:05.299878",
     "status": "completed"
    },
    "tags": []
   },
   "outputs": [],
   "source": [
    "def get_recommendations(title, cosine_sim = cosine_sim_score):\n",
    "    \n",
    "    idx = indices[title]\n",
    "    \n",
    "    # Get the pairwise similarity scores of all movies with that movies\n",
    "    sim_scores = list(enumerate(cosine_sim_score[idx]))\n",
    "    \n",
    "    # Sort the movies based on the similarity scores\n",
    "    sim_scores = sorted(sim_scores, key = lambda x: x[1], reverse = True)\n",
    "    \n",
    "    # Get the scores of the 10 most similar movies\n",
    "    sim_scores = sim_scores[1:11]\n",
    "    \n",
    "    # Get the Movie indices\n",
    "    movie_indices = [i[0] for i in sim_scores]\n",
    "    \n",
    "    # Return the top 10 Similar movies\n",
    "    return netflix_dataset['title'].iloc[movie_indices]"
   ]
  },
  {
   "cell_type": "code",
   "execution_count": 12,
   "metadata": {
    "execution": {
     "iopub.execute_input": "2021-01-11T15:14:05.463514Z",
     "iopub.status.busy": "2021-01-11T15:14:05.462847Z",
     "iopub.status.idle": "2021-01-11T15:14:05.478475Z",
     "shell.execute_reply": "2021-01-11T15:14:05.478965Z"
    },
    "papermill": {
     "duration": 0.067991,
     "end_time": "2021-01-11T15:14:05.479115",
     "exception": false,
     "start_time": "2021-01-11T15:14:05.411124",
     "status": "completed"
    },
    "tags": []
   },
   "outputs": [
    {
     "data": {
      "text/plain": [
       "256                       Nneka The Pretty Serpent\n",
       "3674                  PILI Fantasy: War of Dragons\n",
       "800                                Mosquita y Mari\n",
       "4511         Edgar Rice Burroughs' Tarzan and Jane\n",
       "6749                             Figures of Speech\n",
       "7535    My Entire High School Sinking Into the Sea\n",
       "6760                                     FirstBorn\n",
       "4918                                 Psychokinesis\n",
       "5481                                     Chamatkar\n",
       "2190                          The Umbrella Academy\n",
       "Name: title, dtype: object"
      ]
     },
     "execution_count": 12,
     "metadata": {},
     "output_type": "execute_result"
    }
   ],
   "source": [
    "get_recommendations('Mortel')"
   ]
  },
  {
   "cell_type": "code",
   "execution_count": 13,
   "metadata": {
    "execution": {
     "iopub.execute_input": "2021-01-11T15:14:05.594133Z",
     "iopub.status.busy": "2021-01-11T15:14:05.593183Z",
     "iopub.status.idle": "2021-01-11T15:14:05.597599Z",
     "shell.execute_reply": "2021-01-11T15:14:05.596933Z"
    },
    "papermill": {
     "duration": 0.067713,
     "end_time": "2021-01-11T15:14:05.597722",
     "exception": false,
     "start_time": "2021-01-11T15:14:05.530009",
     "status": "completed"
    },
    "tags": []
   },
   "outputs": [
    {
     "data": {
      "text/plain": [
       "3714                                        Unbroken\n",
       "4221                           Merku Thodarchi Malai\n",
       "7129                                  Jhansi Ki Rani\n",
       "906     Have You Ever Seen Fireflies? - Theatre Play\n",
       "4306                                            ROMA\n",
       "6031                              A Clockwork Orange\n",
       "4569                        Harishchandrachi Factory\n",
       "4565                              Ek Main Aur Ekk Tu\n",
       "4700                         Bhavesh Joshi Superhero\n",
       "2148                                    The Governor\n",
       "Name: title, dtype: object"
      ]
     },
     "execution_count": 13,
     "metadata": {},
     "output_type": "execute_result"
    }
   ],
   "source": [
    "get_recommendations('PK')"
   ]
  },
  {
   "cell_type": "code",
   "execution_count": 14,
   "metadata": {
    "execution": {
     "iopub.execute_input": "2021-01-11T15:14:05.713021Z",
     "iopub.status.busy": "2021-01-11T15:14:05.711865Z",
     "iopub.status.idle": "2021-01-11T15:14:05.716847Z",
     "shell.execute_reply": "2021-01-11T15:14:05.716262Z"
    },
    "papermill": {
     "duration": 0.068034,
     "end_time": "2021-01-11T15:14:05.716972",
     "exception": false,
     "start_time": "2021-01-11T15:14:05.648938",
     "status": "completed"
    },
    "tags": []
   },
   "outputs": [
    {
     "data": {
      "text/plain": [
       "7397        Manhattan Romance\n",
       "3369          BoJack Horseman\n",
       "964       Things Heard & Seen\n",
       "5090                 Episodes\n",
       "4096                Studio 54\n",
       "6549               Dad's Army\n",
       "4964        Trailer Park Boys\n",
       "4265     Single Ladies Senior\n",
       "682     Why Are You Like This\n",
       "2403                   Menahi\n",
       "Name: title, dtype: object"
      ]
     },
     "execution_count": 14,
     "metadata": {},
     "output_type": "execute_result"
    }
   ],
   "source": [
    "get_recommendations('Friends')"
   ]
  },
  {
   "cell_type": "markdown",
   "metadata": {
    "papermill": {
     "duration": 0.050366,
     "end_time": "2021-01-11T15:14:05.820228",
     "exception": false,
     "start_time": "2021-01-11T15:14:05.769862",
     "status": "completed"
    },
    "tags": []
   },
   "source": [
    "It is seen that the model performs well, but it is not accurate recommendations. This is not of much use to most people as we don't take into considerations very important features such as cast, title, director, and l, which determine the rating and the popularity of a movie.\n",
    "\n",
    "Therefore, we going to use much more suggestive features than Tagline or titles.\n",
    "\n",
    "In the next subblocks, we will build a more sophisticated Recommender System that takes title, description, listed_in, cast, and director into consideration."
   ]
  },
  {
   "cell_type": "code",
   "execution_count": 15,
   "metadata": {
    "execution": {
     "iopub.execute_input": "2021-01-11T15:14:05.937215Z",
     "iopub.status.busy": "2021-01-11T15:14:05.930701Z",
     "iopub.status.idle": "2021-01-11T15:14:05.944111Z",
     "shell.execute_reply": "2021-01-11T15:14:05.943560Z"
    },
    "papermill": {
     "duration": 0.073695,
     "end_time": "2021-01-11T15:14:05.944242",
     "exception": false,
     "start_time": "2021-01-11T15:14:05.870547",
     "status": "completed"
    },
    "tags": []
   },
   "outputs": [
    {
     "data": {
      "text/html": [
       "<div>\n",
       "<style scoped>\n",
       "    .dataframe tbody tr th:only-of-type {\n",
       "        vertical-align: middle;\n",
       "    }\n",
       "\n",
       "    .dataframe tbody tr th {\n",
       "        vertical-align: top;\n",
       "    }\n",
       "\n",
       "    .dataframe thead th {\n",
       "        text-align: right;\n",
       "    }\n",
       "</style>\n",
       "<table border=\"1\" class=\"dataframe\">\n",
       "  <thead>\n",
       "    <tr style=\"text-align: right;\">\n",
       "      <th></th>\n",
       "      <th>show_id</th>\n",
       "      <th>type</th>\n",
       "      <th>title</th>\n",
       "      <th>director</th>\n",
       "      <th>cast</th>\n",
       "      <th>country</th>\n",
       "      <th>date_added</th>\n",
       "      <th>release_year</th>\n",
       "      <th>rating</th>\n",
       "      <th>duration</th>\n",
       "      <th>listed_in</th>\n",
       "      <th>description</th>\n",
       "    </tr>\n",
       "  </thead>\n",
       "  <tbody>\n",
       "    <tr>\n",
       "      <th>0</th>\n",
       "      <td>s1</td>\n",
       "      <td>Movie</td>\n",
       "      <td>Dick Johnson Is Dead</td>\n",
       "      <td>Kirsten Johnson</td>\n",
       "      <td></td>\n",
       "      <td>United States</td>\n",
       "      <td>September 25, 2021</td>\n",
       "      <td>2020</td>\n",
       "      <td>PG-13</td>\n",
       "      <td>90 min</td>\n",
       "      <td>Documentaries</td>\n",
       "      <td>As her father nears the end of his life, filmm...</td>\n",
       "    </tr>\n",
       "    <tr>\n",
       "      <th>1</th>\n",
       "      <td>s2</td>\n",
       "      <td>TV Show</td>\n",
       "      <td>Blood &amp; Water</td>\n",
       "      <td></td>\n",
       "      <td>Ama Qamata, Khosi Ngema, Gail Mabalane, Thaban...</td>\n",
       "      <td>South Africa</td>\n",
       "      <td>September 24, 2021</td>\n",
       "      <td>2021</td>\n",
       "      <td>TV-MA</td>\n",
       "      <td>2 Seasons</td>\n",
       "      <td>International TV Shows, TV Dramas, TV Mysteries</td>\n",
       "      <td>After crossing paths at a party, a Cape Town t...</td>\n",
       "    </tr>\n",
       "  </tbody>\n",
       "</table>\n",
       "</div>"
      ],
      "text/plain": [
       "  show_id     type                 title         director  \\\n",
       "0      s1    Movie  Dick Johnson Is Dead  Kirsten Johnson   \n",
       "1      s2  TV Show         Blood & Water                    \n",
       "\n",
       "                                                cast        country  \\\n",
       "0                                                     United States   \n",
       "1  Ama Qamata, Khosi Ngema, Gail Mabalane, Thaban...   South Africa   \n",
       "\n",
       "           date_added  release_year rating   duration  \\\n",
       "0  September 25, 2021          2020  PG-13     90 min   \n",
       "1  September 24, 2021          2021  TV-MA  2 Seasons   \n",
       "\n",
       "                                         listed_in  \\\n",
       "0                                    Documentaries   \n",
       "1  International TV Shows, TV Dramas, TV Mysteries   \n",
       "\n",
       "                                         description  \n",
       "0  As her father nears the end of his life, filmm...  \n",
       "1  After crossing paths at a party, a Cape Town t...  "
      ]
     },
     "execution_count": 15,
     "metadata": {},
     "output_type": "execute_result"
    }
   ],
   "source": [
    "fill_netflix_dataset.head(2)"
   ]
  },
  {
   "cell_type": "code",
   "execution_count": 16,
   "metadata": {
    "execution": {
     "iopub.execute_input": "2021-01-11T15:14:06.053088Z",
     "iopub.status.busy": "2021-01-11T15:14:06.052407Z",
     "iopub.status.idle": "2021-01-11T15:14:06.055426Z",
     "shell.execute_reply": "2021-01-11T15:14:06.054790Z"
    },
    "papermill": {
     "duration": 0.059712,
     "end_time": "2021-01-11T15:14:06.055543",
     "exception": false,
     "start_time": "2021-01-11T15:14:05.995831",
     "status": "completed"
    },
    "tags": []
   },
   "outputs": [],
   "source": [
    "def clean_data(x):\n",
    "    return str.lower(x.replace(' ', ''))"
   ]
  },
  {
   "cell_type": "markdown",
   "metadata": {
    "papermill": {
     "duration": 0.052632,
     "end_time": "2021-01-11T15:14:06.161444",
     "exception": false,
     "start_time": "2021-01-11T15:14:06.108812",
     "status": "completed"
    },
    "tags": []
   },
   "source": [
    "Identifying features on which the model is to be filtered"
   ]
  },
  {
   "cell_type": "code",
   "execution_count": 17,
   "metadata": {
    "execution": {
     "iopub.execute_input": "2021-01-11T15:14:06.278214Z",
     "iopub.status.busy": "2021-01-11T15:14:06.272086Z",
     "iopub.status.idle": "2021-01-11T15:14:06.282091Z",
     "shell.execute_reply": "2021-01-11T15:14:06.281327Z"
    },
    "papermill": {
     "duration": 0.069469,
     "end_time": "2021-01-11T15:14:06.282215",
     "exception": false,
     "start_time": "2021-01-11T15:14:06.212746",
     "status": "completed"
    },
    "tags": []
   },
   "outputs": [],
   "source": [
    "features = ['title', 'director', 'cast', 'listed_in', 'description']\n",
    "fill_netflix_dataset = fill_netflix_dataset[features]"
   ]
  },
  {
   "cell_type": "code",
   "execution_count": 18,
   "metadata": {
    "execution": {
     "iopub.execute_input": "2021-01-11T15:14:06.438482Z",
     "iopub.status.busy": "2021-01-11T15:14:06.428882Z",
     "iopub.status.idle": "2021-01-11T15:14:06.447816Z",
     "shell.execute_reply": "2021-01-11T15:14:06.446979Z"
    },
    "papermill": {
     "duration": 0.113203,
     "end_time": "2021-01-11T15:14:06.447953",
     "exception": false,
     "start_time": "2021-01-11T15:14:06.334750",
     "status": "completed"
    },
    "tags": []
   },
   "outputs": [
    {
     "data": {
      "text/html": [
       "<div>\n",
       "<style scoped>\n",
       "    .dataframe tbody tr th:only-of-type {\n",
       "        vertical-align: middle;\n",
       "    }\n",
       "\n",
       "    .dataframe tbody tr th {\n",
       "        vertical-align: top;\n",
       "    }\n",
       "\n",
       "    .dataframe thead th {\n",
       "        text-align: right;\n",
       "    }\n",
       "</style>\n",
       "<table border=\"1\" class=\"dataframe\">\n",
       "  <thead>\n",
       "    <tr style=\"text-align: right;\">\n",
       "      <th></th>\n",
       "      <th>title</th>\n",
       "      <th>director</th>\n",
       "      <th>cast</th>\n",
       "      <th>listed_in</th>\n",
       "      <th>description</th>\n",
       "    </tr>\n",
       "  </thead>\n",
       "  <tbody>\n",
       "    <tr>\n",
       "      <th>0</th>\n",
       "      <td>dickjohnsonisdead</td>\n",
       "      <td>kirstenjohnson</td>\n",
       "      <td></td>\n",
       "      <td>documentaries</td>\n",
       "      <td>asherfathernearstheendofhislife,filmmakerkirst...</td>\n",
       "    </tr>\n",
       "    <tr>\n",
       "      <th>1</th>\n",
       "      <td>blood&amp;water</td>\n",
       "      <td></td>\n",
       "      <td>amaqamata,khosingema,gailmabalane,thabangmolab...</td>\n",
       "      <td>internationaltvshows,tvdramas,tvmysteries</td>\n",
       "      <td>aftercrossingpathsataparty,acapetownteensetsou...</td>\n",
       "    </tr>\n",
       "  </tbody>\n",
       "</table>\n",
       "</div>"
      ],
      "text/plain": [
       "               title        director  \\\n",
       "0  dickjohnsonisdead  kirstenjohnson   \n",
       "1        blood&water                   \n",
       "\n",
       "                                                cast  \\\n",
       "0                                                      \n",
       "1  amaqamata,khosingema,gailmabalane,thabangmolab...   \n",
       "\n",
       "                                   listed_in  \\\n",
       "0                              documentaries   \n",
       "1  internationaltvshows,tvdramas,tvmysteries   \n",
       "\n",
       "                                         description  \n",
       "0  asherfathernearstheendofhislife,filmmakerkirst...  \n",
       "1  aftercrossingpathsataparty,acapetownteensetsou...  "
      ]
     },
     "execution_count": 18,
     "metadata": {},
     "output_type": "execute_result"
    }
   ],
   "source": [
    "for feature in features:\n",
    "    fill_netflix_dataset[feature] = fill_netflix_dataset[feature].apply(clean_data)\n",
    "    \n",
    "fill_netflix_dataset.head(2)"
   ]
  },
  {
   "cell_type": "code",
   "execution_count": 19,
   "metadata": {
    "execution": {
     "iopub.execute_input": "2021-01-11T15:14:06.567432Z",
     "iopub.status.busy": "2021-01-11T15:14:06.566596Z",
     "iopub.status.idle": "2021-01-11T15:14:06.569610Z",
     "shell.execute_reply": "2021-01-11T15:14:06.570195Z"
    },
    "papermill": {
     "duration": 0.065392,
     "end_time": "2021-01-11T15:14:06.570542",
     "exception": false,
     "start_time": "2021-01-11T15:14:06.505150",
     "status": "completed"
    },
    "tags": []
   },
   "outputs": [],
   "source": [
    "def create_soup(x):\n",
    "    return x['title'] + ' ' + x['director'] + ' ' + x['cast'] + ' ' + x['listed_in'] +' ' + x['description']"
   ]
  },
  {
   "cell_type": "code",
   "execution_count": 20,
   "metadata": {
    "execution": {
     "iopub.execute_input": "2021-01-11T15:14:06.682136Z",
     "iopub.status.busy": "2021-01-11T15:14:06.681346Z",
     "iopub.status.idle": "2021-01-11T15:14:06.914096Z",
     "shell.execute_reply": "2021-01-11T15:14:06.913463Z"
    },
    "papermill": {
     "duration": 0.290887,
     "end_time": "2021-01-11T15:14:06.914210",
     "exception": false,
     "start_time": "2021-01-11T15:14:06.623323",
     "status": "completed"
    },
    "tags": []
   },
   "outputs": [],
   "source": [
    "fill_netflix_dataset['soup'] = fill_netflix_dataset.apply(create_soup, axis = 1)"
   ]
  },
  {
   "cell_type": "markdown",
   "metadata": {
    "papermill": {
     "duration": 0.056686,
     "end_time": "2021-01-11T15:14:07.024144",
     "exception": false,
     "start_time": "2021-01-11T15:14:06.967458",
     "status": "completed"
    },
    "tags": []
   },
   "source": [
    "Now, we are going to create our updated version of the Recommender function as same as the last one"
   ]
  },
  {
   "cell_type": "code",
   "execution_count": 21,
   "metadata": {
    "execution": {
     "iopub.execute_input": "2021-01-11T15:14:07.153687Z",
     "iopub.status.busy": "2021-01-11T15:14:07.152990Z",
     "iopub.status.idle": "2021-01-11T15:14:08.148858Z",
     "shell.execute_reply": "2021-01-11T15:14:08.148203Z"
    },
    "papermill": {
     "duration": 1.069481,
     "end_time": "2021-01-11T15:14:08.148979",
     "exception": false,
     "start_time": "2021-01-11T15:14:07.079498",
     "status": "completed"
    },
    "tags": []
   },
   "outputs": [],
   "source": [
    "from sklearn.feature_extraction.text import CountVectorizer\n",
    "from sklearn.metrics.pairwise import cosine_similarity\n",
    "\n",
    "count = CountVectorizer(stop_words='english')\n",
    "count_matrix = count.fit_transform(fill_netflix_dataset['soup'])\n",
    "\n",
    "cosine_sim_score2 = cosine_similarity(count_matrix, count_matrix)"
   ]
  },
  {
   "cell_type": "code",
   "execution_count": 22,
   "metadata": {
    "execution": {
     "iopub.execute_input": "2021-01-11T15:14:08.265136Z",
     "iopub.status.busy": "2021-01-11T15:14:08.264189Z",
     "iopub.status.idle": "2021-01-11T15:14:08.267793Z",
     "shell.execute_reply": "2021-01-11T15:14:08.267237Z"
    },
    "papermill": {
     "duration": 0.063671,
     "end_time": "2021-01-11T15:14:08.267899",
     "exception": false,
     "start_time": "2021-01-11T15:14:08.204228",
     "status": "completed"
    },
    "tags": []
   },
   "outputs": [],
   "source": [
    "fill_netflix_dataset = fill_netflix_dataset.reset_index()\n",
    "indices = pd.Series(fill_netflix_dataset.index, index = fill_netflix_dataset['title'])"
   ]
  },
  {
   "cell_type": "code",
   "execution_count": 23,
   "metadata": {
    "execution": {
     "iopub.execute_input": "2021-01-11T15:14:08.383856Z",
     "iopub.status.busy": "2021-01-11T15:14:08.382719Z",
     "iopub.status.idle": "2021-01-11T15:14:08.386537Z",
     "shell.execute_reply": "2021-01-11T15:14:08.385784Z"
    },
    "papermill": {
     "duration": 0.064681,
     "end_time": "2021-01-11T15:14:08.386650",
     "exception": false,
     "start_time": "2021-01-11T15:14:08.321969",
     "status": "completed"
    },
    "tags": []
   },
   "outputs": [],
   "source": [
    "def updated_recommendations(title, cosine_sim = cosine_sim_score2):\n",
    "    \n",
    "    title = title.replace(' ', '').lower()\n",
    "    idx = indices[title]\n",
    "    \n",
    "    # Get the pairwise similarity scores of all movies with that movies\n",
    "    sim_scores = list(enumerate(cosine_sim[idx]))\n",
    "    \n",
    "    # Sort the movies based on the similarity scores\n",
    "    sim_scores = sorted(sim_scores, key = lambda x: x[1], reverse = True)\n",
    "    \n",
    "    # Get the scores of the 10 most similar movies\n",
    "    sim_scores = sim_scores[1:11]\n",
    "    \n",
    "    # Get the Movie indices\n",
    "    movie_indices = [i[0] for i in sim_scores]\n",
    "    \n",
    "    # Return the top 10 Similar movies\n",
    "    return netflix_dataset['title'].iloc[movie_indices]"
   ]
  },
  {
   "cell_type": "code",
   "execution_count": 24,
   "metadata": {
    "execution": {
     "iopub.execute_input": "2021-01-11T15:14:08.508961Z",
     "iopub.status.busy": "2021-01-11T15:14:08.504688Z",
     "iopub.status.idle": "2021-01-11T15:14:08.514157Z",
     "shell.execute_reply": "2021-01-11T15:14:08.513492Z"
    },
    "papermill": {
     "duration": 0.074642,
     "end_time": "2021-01-11T15:14:08.514270",
     "exception": false,
     "start_time": "2021-01-11T15:14:08.439628",
     "status": "completed"
    },
    "tags": []
   },
   "outputs": [
    {
     "data": {
      "text/plain": [
       "1114                           3 Idiots\n",
       "8391       The Legend of Michael Mishra\n",
       "4790                  Anthony Kaun Hai?\n",
       "6907                             Haapus\n",
       "1022                   Taare Zameen Par\n",
       "4507                              Sanju\n",
       "2720                            Dostana\n",
       "4427                    Chance Pe Dance\n",
       "6439                    Chal Dhar Pakad\n",
       "195     EMI: Liya Hai To Chukana Padega\n",
       "Name: title, dtype: object"
      ]
     },
     "execution_count": 24,
     "metadata": {},
     "output_type": "execute_result"
    }
   ],
   "source": [
    "updated_recommendations('PK')"
   ]
  },
  {
   "cell_type": "code",
   "execution_count": 25,
   "metadata": {
    "execution": {
     "iopub.execute_input": "2021-01-11T15:14:08.634380Z",
     "iopub.status.busy": "2021-01-11T15:14:08.633675Z",
     "iopub.status.idle": "2021-01-11T15:14:08.638493Z",
     "shell.execute_reply": "2021-01-11T15:14:08.637811Z"
    },
    "papermill": {
     "duration": 0.071435,
     "end_time": "2021-01-11T15:14:08.638621",
     "exception": false,
     "start_time": "2021-01-11T15:14:08.567186",
     "status": "completed"
    },
    "tags": []
   },
   "outputs": [
    {
     "data": {
      "text/plain": [
       "2982                                        Find Yourself\n",
       "1038                                       Dancing Angels\n",
       "7438                     Melodies of Life - Born This Way\n",
       "3293                                        Little Things\n",
       "6508    Club Friday To Be Continued - My Beautiful Tomboy\n",
       "7872                                           Rishta.com\n",
       "3463                                      College Romance\n",
       "4171                                    The Perfect Match\n",
       "4487                                 Accidentally in Love\n",
       "5703                                          Refresh Man\n",
       "Name: title, dtype: object"
      ]
     },
     "execution_count": 25,
     "metadata": {},
     "output_type": "execute_result"
    }
   ],
   "source": [
    "updated_recommendations('The Hook Up Plan')"
   ]
  },
  {
   "cell_type": "code",
   "execution_count": 26,
   "metadata": {
    "execution": {
     "iopub.execute_input": "2021-01-11T15:14:08.760023Z",
     "iopub.status.busy": "2021-01-11T15:14:08.757671Z",
     "iopub.status.idle": "2021-01-11T15:14:08.764310Z",
     "shell.execute_reply": "2021-01-11T15:14:08.763672Z"
    },
    "papermill": {
     "duration": 0.071444,
     "end_time": "2021-01-11T15:14:08.764428",
     "exception": false,
     "start_time": "2021-01-11T15:14:08.692984",
     "status": "completed"
    },
    "tags": []
   },
   "outputs": [
    {
     "data": {
      "text/plain": [
       "1301                               Behind Her Eyes\n",
       "2184                                      Get Even\n",
       "519                                  I AM A KILLER\n",
       "3789                                Killer Ratings\n",
       "4476                         Terrorism Close Calls\n",
       "4673                      Inside the Criminal Mind\n",
       "7017    How to Live Mortgage Free with Sarah Beeny\n",
       "6971                                    Hinterland\n",
       "4129                                          Safe\n",
       "5365                                         Vexed\n",
       "Name: title, dtype: object"
      ]
     },
     "execution_count": 26,
     "metadata": {},
     "output_type": "execute_result"
    }
   ],
   "source": [
    "updated_recommendations('Kiss me first')"
   ]
  },
  {
   "cell_type": "code",
   "execution_count": 27,
   "metadata": {
    "execution": {
     "iopub.execute_input": "2021-01-11T15:14:08.877768Z",
     "iopub.status.busy": "2021-01-11T15:14:08.877070Z",
     "iopub.status.idle": "2021-01-11T15:14:08.890708Z",
     "shell.execute_reply": "2021-01-11T15:14:08.890124Z"
    },
    "papermill": {
     "duration": 0.072136,
     "end_time": "2021-01-11T15:14:08.890822",
     "exception": false,
     "start_time": "2021-01-11T15:14:08.818686",
     "status": "completed"
    },
    "tags": []
   },
   "outputs": [
    {
     "data": {
      "text/plain": [
       "5090                               Episodes\n",
       "6795                                Frasier\n",
       "8189                 The Andy Griffith Show\n",
       "6549                             Dad's Army\n",
       "7721                    Pee-wee's Playhouse\n",
       "8599                        Toast of London\n",
       "6456                                 Cheers\n",
       "8541    The Twilight Zone (Original Series)\n",
       "1929                        Man with a Plan\n",
       "1480                             Still Game\n",
       "Name: title, dtype: object"
      ]
     },
     "execution_count": 27,
     "metadata": {},
     "output_type": "execute_result"
    }
   ],
   "source": [
    "updated_recommendations('Friends')"
   ]
  },
  {
   "cell_type": "markdown",
   "metadata": {},
   "source": [
    "## We can see that the recommendations have improved a lot better than the previous method. "
   ]
  },
  {
   "cell_type": "markdown",
   "metadata": {
    "papermill": {
     "duration": 0.055232,
     "end_time": "2021-01-11T15:14:09.001275",
     "exception": false,
     "start_time": "2021-01-11T15:14:08.946043",
     "status": "completed"
    },
    "tags": []
   },
   "source": [
    "### **<h1 align =\"middle\"><b> Analyzing Datasets through Various PLOTS for Various Information </b></h1>**"
   ]
  },
  {
   "cell_type": "markdown",
   "metadata": {
    "papermill": {
     "duration": 0.055124,
     "end_time": "2021-01-11T15:14:09.111921",
     "exception": false,
     "start_time": "2021-01-11T15:14:09.056797",
     "status": "completed"
    },
    "tags": []
   },
   "source": [
    "### **Which content is more Available on NETFLIX ?** MOVIES or TV-SHOWS"
   ]
  },
  {
   "cell_type": "code",
   "execution_count": 28,
   "metadata": {
    "execution": {
     "iopub.execute_input": "2021-01-11T15:14:09.229507Z",
     "iopub.status.busy": "2021-01-11T15:14:09.228119Z",
     "iopub.status.idle": "2021-01-11T15:14:09.482049Z",
     "shell.execute_reply": "2021-01-11T15:14:09.481441Z"
    },
    "papermill": {
     "duration": 0.314264,
     "end_time": "2021-01-11T15:14:09.482169",
     "exception": false,
     "start_time": "2021-01-11T15:14:09.167905",
     "status": "completed"
    },
    "tags": []
   },
   "outputs": [
    {
     "data": {
      "image/png": "[encoded data removed]",
      "text/plain": [
       "<Figure size 432x432 with 1 Axes>"
      ]
     },
     "metadata": {},
     "output_type": "display_data"
    }
   ],
   "source": [
    "# creating Countplot from Seaborn to show max available content in NETFLIX\n",
    "\n",
    "sns.set_style('dark')\n",
    "ax = plt.subplots(figsize = (6, 6))\n",
    "plt.title('Countplot for Netflix Movies and TV-Shows', fontweight='bold')\n",
    "ax = sns.countplot(x = 'type', data=netflix_dataset, palette='Set1')"
   ]
  },
  {
   "cell_type": "markdown",
   "metadata": {
    "papermill": {
     "duration": 0.056412,
     "end_time": "2021-01-11T15:14:09.596040",
     "exception": false,
     "start_time": "2021-01-11T15:14:09.539628",
     "status": "completed"
    },
    "tags": []
   },
   "source": [
    "Hence, This plot shows NETFLIX has more **MOVIES** content instead of TV-SHOWS. "
   ]
  },
  {
   "cell_type": "markdown",
   "metadata": {
    "papermill": {
     "duration": 0.063707,
     "end_time": "2021-01-11T15:14:10.622389",
     "exception": false,
     "start_time": "2021-01-11T15:14:10.558682",
     "status": "completed"
    },
    "tags": []
   },
   "source": [
    "### **In which Year Maximum Movies and TV-Shows are released ?** "
   ]
  },
  {
   "cell_type": "code",
   "execution_count": 29,
   "metadata": {
    "execution": {
     "iopub.execute_input": "2021-01-11T15:14:10.753441Z",
     "iopub.status.busy": "2021-01-11T15:14:10.752213Z",
     "iopub.status.idle": "2021-01-11T15:14:11.189431Z",
     "shell.execute_reply": "2021-01-11T15:14:11.190050Z"
    },
    "papermill": {
     "duration": 0.505749,
     "end_time": "2021-01-11T15:14:11.190211",
     "exception": false,
     "start_time": "2021-01-11T15:14:10.684462",
     "status": "completed"
    },
    "tags": []
   },
   "outputs": [
    {
     "data": {
      "image/png": "[encoded data removed]",
      "text/plain": [
       "<Figure size 720x576 with 1 Axes>"
      ]
     },
     "metadata": {},
     "output_type": "display_data"
    }
   ],
   "source": [
    "ax = plt.subplots(figsize = (10, 8))\n",
    "sns.set_style('dark')\n",
    "plt.title('Netflix Movie and TV-Shows Releasing', fontweight='bold', fontsize=20)\n",
    "ax = sns.countplot(y = 'release_year', data = netflix_dataset, order = netflix_dataset['release_year'].value_counts().index[0:15], palette='Set2')"
   ]
  },
  {
   "cell_type": "markdown",
   "metadata": {
    "papermill": {
     "duration": 0.065048,
     "end_time": "2021-01-11T15:14:11.321500",
     "exception": false,
     "start_time": "2021-01-11T15:14:11.256452",
     "status": "completed"
    },
    "tags": []
   },
   "source": [
    "This visualization shows that 2018 is the maximum releasing year for Netflix."
   ]
  },
  {
   "cell_type": "markdown",
   "metadata": {
    "papermill": {
     "duration": 0.061804,
     "end_time": "2021-01-11T15:14:11.448706",
     "exception": false,
     "start_time": "2021-01-11T15:14:11.386902",
     "status": "completed"
    },
    "tags": []
   },
   "source": [
    "### **Dividing Netflix Dataset into two parts Movies and TV-Shows** "
   ]
  },
  {
   "cell_type": "code",
   "execution_count": 30,
   "metadata": {
    "execution": {
     "iopub.execute_input": "2021-01-11T15:14:11.569806Z",
     "iopub.status.busy": "2021-01-11T15:14:11.568745Z",
     "iopub.status.idle": "2021-01-11T15:14:11.590827Z",
     "shell.execute_reply": "2021-01-11T15:14:11.591439Z"
    },
    "papermill": {
     "duration": 0.08432,
     "end_time": "2021-01-11T15:14:11.591600",
     "exception": false,
     "start_time": "2021-01-11T15:14:11.507280",
     "status": "completed"
    },
    "tags": []
   },
   "outputs": [
    {
     "data": {
      "text/html": [
       "<div>\n",
       "<style scoped>\n",
       "    .dataframe tbody tr th:only-of-type {\n",
       "        vertical-align: middle;\n",
       "    }\n",
       "\n",
       "    .dataframe tbody tr th {\n",
       "        vertical-align: top;\n",
       "    }\n",
       "\n",
       "    .dataframe thead th {\n",
       "        text-align: right;\n",
       "    }\n",
       "</style>\n",
       "<table border=\"1\" class=\"dataframe\">\n",
       "  <thead>\n",
       "    <tr style=\"text-align: right;\">\n",
       "      <th></th>\n",
       "      <th>show_id</th>\n",
       "      <th>type</th>\n",
       "      <th>title</th>\n",
       "      <th>director</th>\n",
       "      <th>cast</th>\n",
       "      <th>country</th>\n",
       "      <th>date_added</th>\n",
       "      <th>release_year</th>\n",
       "      <th>rating</th>\n",
       "      <th>duration</th>\n",
       "      <th>listed_in</th>\n",
       "      <th>description</th>\n",
       "    </tr>\n",
       "  </thead>\n",
       "  <tbody>\n",
       "    <tr>\n",
       "      <th>0</th>\n",
       "      <td>s1</td>\n",
       "      <td>Movie</td>\n",
       "      <td>Dick Johnson Is Dead</td>\n",
       "      <td>Kirsten Johnson</td>\n",
       "      <td>NaN</td>\n",
       "      <td>United States</td>\n",
       "      <td>September 25, 2021</td>\n",
       "      <td>2020</td>\n",
       "      <td>PG-13</td>\n",
       "      <td>90 min</td>\n",
       "      <td>Documentaries</td>\n",
       "      <td>As her father nears the end of his life, filmm...</td>\n",
       "    </tr>\n",
       "    <tr>\n",
       "      <th>6</th>\n",
       "      <td>s7</td>\n",
       "      <td>Movie</td>\n",
       "      <td>My Little Pony: A New Generation</td>\n",
       "      <td>Robert Cullen, José Luis Ucha</td>\n",
       "      <td>Vanessa Hudgens, Kimiko Glenn, James Marsden, ...</td>\n",
       "      <td>NaN</td>\n",
       "      <td>September 24, 2021</td>\n",
       "      <td>2021</td>\n",
       "      <td>PG</td>\n",
       "      <td>91 min</td>\n",
       "      <td>Children &amp; Family Movies</td>\n",
       "      <td>Equestria's divided. But a bright-eyed hero be...</td>\n",
       "    </tr>\n",
       "    <tr>\n",
       "      <th>7</th>\n",
       "      <td>s8</td>\n",
       "      <td>Movie</td>\n",
       "      <td>Sankofa</td>\n",
       "      <td>Haile Gerima</td>\n",
       "      <td>Kofi Ghanaba, Oyafunmike Ogunlano, Alexandra D...</td>\n",
       "      <td>United States, Ghana, Burkina Faso, United Kin...</td>\n",
       "      <td>September 24, 2021</td>\n",
       "      <td>1993</td>\n",
       "      <td>TV-MA</td>\n",
       "      <td>125 min</td>\n",
       "      <td>Dramas, Independent Movies, International Movies</td>\n",
       "      <td>On a photo shoot in Ghana, an American model s...</td>\n",
       "    </tr>\n",
       "    <tr>\n",
       "      <th>9</th>\n",
       "      <td>s10</td>\n",
       "      <td>Movie</td>\n",
       "      <td>The Starling</td>\n",
       "      <td>Theodore Melfi</td>\n",
       "      <td>Melissa McCarthy, Chris O'Dowd, Kevin Kline, T...</td>\n",
       "      <td>United States</td>\n",
       "      <td>September 24, 2021</td>\n",
       "      <td>2021</td>\n",
       "      <td>PG-13</td>\n",
       "      <td>104 min</td>\n",
       "      <td>Comedies, Dramas</td>\n",
       "      <td>A woman adjusting to life after a loss contend...</td>\n",
       "    </tr>\n",
       "    <tr>\n",
       "      <th>12</th>\n",
       "      <td>s13</td>\n",
       "      <td>Movie</td>\n",
       "      <td>Je Suis Karl</td>\n",
       "      <td>Christian Schwochow</td>\n",
       "      <td>Luna Wedler, Jannis Niewöhner, Milan Peschel, ...</td>\n",
       "      <td>Germany, Czech Republic</td>\n",
       "      <td>September 23, 2021</td>\n",
       "      <td>2021</td>\n",
       "      <td>TV-MA</td>\n",
       "      <td>127 min</td>\n",
       "      <td>Dramas, International Movies</td>\n",
       "      <td>After most of her family is murdered in a terr...</td>\n",
       "    </tr>\n",
       "  </tbody>\n",
       "</table>\n",
       "</div>"
      ],
      "text/plain": [
       "   show_id   type                             title  \\\n",
       "0       s1  Movie              Dick Johnson Is Dead   \n",
       "6       s7  Movie  My Little Pony: A New Generation   \n",
       "7       s8  Movie                           Sankofa   \n",
       "9      s10  Movie                      The Starling   \n",
       "12     s13  Movie                      Je Suis Karl   \n",
       "\n",
       "                         director  \\\n",
       "0                 Kirsten Johnson   \n",
       "6   Robert Cullen, José Luis Ucha   \n",
       "7                    Haile Gerima   \n",
       "9                  Theodore Melfi   \n",
       "12            Christian Schwochow   \n",
       "\n",
       "                                                 cast  \\\n",
       "0                                                 NaN   \n",
       "6   Vanessa Hudgens, Kimiko Glenn, James Marsden, ...   \n",
       "7   Kofi Ghanaba, Oyafunmike Ogunlano, Alexandra D...   \n",
       "9   Melissa McCarthy, Chris O'Dowd, Kevin Kline, T...   \n",
       "12  Luna Wedler, Jannis Niewöhner, Milan Peschel, ...   \n",
       "\n",
       "                                              country          date_added  \\\n",
       "0                                       United States  September 25, 2021   \n",
       "6                                                 NaN  September 24, 2021   \n",
       "7   United States, Ghana, Burkina Faso, United Kin...  September 24, 2021   \n",
       "9                                       United States  September 24, 2021   \n",
       "12                            Germany, Czech Republic  September 23, 2021   \n",
       "\n",
       "    release_year rating duration  \\\n",
       "0           2020  PG-13   90 min   \n",
       "6           2021     PG   91 min   \n",
       "7           1993  TV-MA  125 min   \n",
       "9           2021  PG-13  104 min   \n",
       "12          2021  TV-MA  127 min   \n",
       "\n",
       "                                           listed_in  \\\n",
       "0                                      Documentaries   \n",
       "6                           Children & Family Movies   \n",
       "7   Dramas, Independent Movies, International Movies   \n",
       "9                                   Comedies, Dramas   \n",
       "12                      Dramas, International Movies   \n",
       "\n",
       "                                          description  \n",
       "0   As her father nears the end of his life, filmm...  \n",
       "6   Equestria's divided. But a bright-eyed hero be...  \n",
       "7   On a photo shoot in Ghana, an American model s...  \n",
       "9   A woman adjusting to life after a loss contend...  \n",
       "12  After most of her family is murdered in a terr...  "
      ]
     },
     "execution_count": 30,
     "metadata": {},
     "output_type": "execute_result"
    }
   ],
   "source": [
    "netflix_movies = netflix_dataset[netflix_dataset['type'] == 'Movie']\n",
    "netflix_movies.head()"
   ]
  },
  {
   "cell_type": "code",
   "execution_count": 31,
   "metadata": {
    "execution": {
     "iopub.execute_input": "2021-01-11T15:14:11.714542Z",
     "iopub.status.busy": "2021-01-11T15:14:11.713491Z",
     "iopub.status.idle": "2021-01-11T15:14:11.734361Z",
     "shell.execute_reply": "2021-01-11T15:14:11.734839Z"
    },
    "papermill": {
     "duration": 0.083654,
     "end_time": "2021-01-11T15:14:11.735002",
     "exception": false,
     "start_time": "2021-01-11T15:14:11.651348",
     "status": "completed"
    },
    "tags": []
   },
   "outputs": [
    {
     "data": {
      "text/html": [
       "<div>\n",
       "<style scoped>\n",
       "    .dataframe tbody tr th:only-of-type {\n",
       "        vertical-align: middle;\n",
       "    }\n",
       "\n",
       "    .dataframe tbody tr th {\n",
       "        vertical-align: top;\n",
       "    }\n",
       "\n",
       "    .dataframe thead th {\n",
       "        text-align: right;\n",
       "    }\n",
       "</style>\n",
       "<table border=\"1\" class=\"dataframe\">\n",
       "  <thead>\n",
       "    <tr style=\"text-align: right;\">\n",
       "      <th></th>\n",
       "      <th>show_id</th>\n",
       "      <th>type</th>\n",
       "      <th>title</th>\n",
       "      <th>director</th>\n",
       "      <th>cast</th>\n",
       "      <th>country</th>\n",
       "      <th>date_added</th>\n",
       "      <th>release_year</th>\n",
       "      <th>rating</th>\n",
       "      <th>duration</th>\n",
       "      <th>listed_in</th>\n",
       "      <th>description</th>\n",
       "    </tr>\n",
       "  </thead>\n",
       "  <tbody>\n",
       "    <tr>\n",
       "      <th>1</th>\n",
       "      <td>s2</td>\n",
       "      <td>TV Show</td>\n",
       "      <td>Blood &amp; Water</td>\n",
       "      <td>NaN</td>\n",
       "      <td>Ama Qamata, Khosi Ngema, Gail Mabalane, Thaban...</td>\n",
       "      <td>South Africa</td>\n",
       "      <td>September 24, 2021</td>\n",
       "      <td>2021</td>\n",
       "      <td>TV-MA</td>\n",
       "      <td>2 Seasons</td>\n",
       "      <td>International TV Shows, TV Dramas, TV Mysteries</td>\n",
       "      <td>After crossing paths at a party, a Cape Town t...</td>\n",
       "    </tr>\n",
       "    <tr>\n",
       "      <th>2</th>\n",
       "      <td>s3</td>\n",
       "      <td>TV Show</td>\n",
       "      <td>Ganglands</td>\n",
       "      <td>Julien Leclercq</td>\n",
       "      <td>Sami Bouajila, Tracy Gotoas, Samuel Jouy, Nabi...</td>\n",
       "      <td>NaN</td>\n",
       "      <td>September 24, 2021</td>\n",
       "      <td>2021</td>\n",
       "      <td>TV-MA</td>\n",
       "      <td>1 Season</td>\n",
       "      <td>Crime TV Shows, International TV Shows, TV Act...</td>\n",
       "      <td>To protect his family from a powerful drug lor...</td>\n",
       "    </tr>\n",
       "    <tr>\n",
       "      <th>3</th>\n",
       "      <td>s4</td>\n",
       "      <td>TV Show</td>\n",
       "      <td>Jailbirds New Orleans</td>\n",
       "      <td>NaN</td>\n",
       "      <td>NaN</td>\n",
       "      <td>NaN</td>\n",
       "      <td>September 24, 2021</td>\n",
       "      <td>2021</td>\n",
       "      <td>TV-MA</td>\n",
       "      <td>1 Season</td>\n",
       "      <td>Docuseries, Reality TV</td>\n",
       "      <td>Feuds, flirtations and toilet talk go down amo...</td>\n",
       "    </tr>\n",
       "    <tr>\n",
       "      <th>4</th>\n",
       "      <td>s5</td>\n",
       "      <td>TV Show</td>\n",
       "      <td>Kota Factory</td>\n",
       "      <td>NaN</td>\n",
       "      <td>Mayur More, Jitendra Kumar, Ranjan Raj, Alam K...</td>\n",
       "      <td>India</td>\n",
       "      <td>September 24, 2021</td>\n",
       "      <td>2021</td>\n",
       "      <td>TV-MA</td>\n",
       "      <td>2 Seasons</td>\n",
       "      <td>International TV Shows, Romantic TV Shows, TV ...</td>\n",
       "      <td>In a city of coaching centers known to train I...</td>\n",
       "    </tr>\n",
       "    <tr>\n",
       "      <th>5</th>\n",
       "      <td>s6</td>\n",
       "      <td>TV Show</td>\n",
       "      <td>Midnight Mass</td>\n",
       "      <td>Mike Flanagan</td>\n",
       "      <td>Kate Siegel, Zach Gilford, Hamish Linklater, H...</td>\n",
       "      <td>NaN</td>\n",
       "      <td>September 24, 2021</td>\n",
       "      <td>2021</td>\n",
       "      <td>TV-MA</td>\n",
       "      <td>1 Season</td>\n",
       "      <td>TV Dramas, TV Horror, TV Mysteries</td>\n",
       "      <td>The arrival of a charismatic young priest brin...</td>\n",
       "    </tr>\n",
       "  </tbody>\n",
       "</table>\n",
       "</div>"
      ],
      "text/plain": [
       "  show_id     type                  title         director  \\\n",
       "1      s2  TV Show          Blood & Water              NaN   \n",
       "2      s3  TV Show              Ganglands  Julien Leclercq   \n",
       "3      s4  TV Show  Jailbirds New Orleans              NaN   \n",
       "4      s5  TV Show           Kota Factory              NaN   \n",
       "5      s6  TV Show          Midnight Mass    Mike Flanagan   \n",
       "\n",
       "                                                cast       country  \\\n",
       "1  Ama Qamata, Khosi Ngema, Gail Mabalane, Thaban...  South Africa   \n",
       "2  Sami Bouajila, Tracy Gotoas, Samuel Jouy, Nabi...           NaN   \n",
       "3                                                NaN           NaN   \n",
       "4  Mayur More, Jitendra Kumar, Ranjan Raj, Alam K...         India   \n",
       "5  Kate Siegel, Zach Gilford, Hamish Linklater, H...           NaN   \n",
       "\n",
       "           date_added  release_year rating   duration  \\\n",
       "1  September 24, 2021          2021  TV-MA  2 Seasons   \n",
       "2  September 24, 2021          2021  TV-MA   1 Season   \n",
       "3  September 24, 2021          2021  TV-MA   1 Season   \n",
       "4  September 24, 2021          2021  TV-MA  2 Seasons   \n",
       "5  September 24, 2021          2021  TV-MA   1 Season   \n",
       "\n",
       "                                           listed_in  \\\n",
       "1    International TV Shows, TV Dramas, TV Mysteries   \n",
       "2  Crime TV Shows, International TV Shows, TV Act...   \n",
       "3                             Docuseries, Reality TV   \n",
       "4  International TV Shows, Romantic TV Shows, TV ...   \n",
       "5                 TV Dramas, TV Horror, TV Mysteries   \n",
       "\n",
       "                                         description  \n",
       "1  After crossing paths at a party, a Cape Town t...  \n",
       "2  To protect his family from a powerful drug lor...  \n",
       "3  Feuds, flirtations and toilet talk go down amo...  \n",
       "4  In a city of coaching centers known to train I...  \n",
       "5  The arrival of a charismatic young priest brin...  "
      ]
     },
     "execution_count": 31,
     "metadata": {},
     "output_type": "execute_result"
    }
   ],
   "source": [
    "netflix_tvshows = netflix_dataset[netflix_dataset['type'] == 'TV Show']\n",
    "netflix_tvshows.head()"
   ]
  },
  {
   "cell_type": "markdown",
   "metadata": {
    "papermill": {
     "duration": 0.060579,
     "end_time": "2021-01-11T15:14:11.855535",
     "exception": false,
     "start_time": "2021-01-11T15:14:11.794956",
     "status": "completed"
    },
    "tags": []
   },
   "source": [
    "### **Movies and TV-Shows rating Analysis** "
   ]
  },
  {
   "cell_type": "code",
   "execution_count": 32,
   "metadata": {
    "execution": {
     "iopub.execute_input": "2021-01-11T15:14:11.988624Z",
     "iopub.status.busy": "2021-01-11T15:14:11.987515Z",
     "iopub.status.idle": "2021-01-11T15:14:12.316271Z",
     "shell.execute_reply": "2021-01-11T15:14:12.316990Z"
    },
    "papermill": {
     "duration": 0.395389,
     "end_time": "2021-01-11T15:14:12.317183",
     "exception": false,
     "start_time": "2021-01-11T15:14:11.921794",
     "status": "completed"
    },
    "tags": []
   },
   "outputs": [
    {
     "data": {
      "image/png": "[encoded data removed]",
      "text/plain": [
       "<Figure size 720x576 with 1 Axes>"
      ]
     },
     "metadata": {},
     "output_type": "display_data"
    }
   ],
   "source": [
    "ax = plt.subplots(figsize = (10, 8))\n",
    "sns.set_style('dark')\n",
    "plt.title('Netflix Movie Rating', fontweight='bold', fontsize=20)\n",
    "ax = sns.countplot(x = 'rating', data = netflix_movies, palette = 'Set2', order = netflix_movies['rating'].value_counts().index[0:15])"
   ]
  },
  {
   "cell_type": "code",
   "execution_count": 33,
   "metadata": {
    "execution": {
     "iopub.execute_input": "2021-01-11T15:14:12.458383Z",
     "iopub.status.busy": "2021-01-11T15:14:12.457349Z",
     "iopub.status.idle": "2021-01-11T15:14:12.727155Z",
     "shell.execute_reply": "2021-01-11T15:14:12.726459Z"
    },
    "papermill": {
     "duration": 0.341047,
     "end_time": "2021-01-11T15:14:12.727281",
     "exception": false,
     "start_time": "2021-01-11T15:14:12.386234",
     "status": "completed"
    },
    "tags": []
   },
   "outputs": [
    {
     "data": {
      "image/png": "[encoded data removed]",
      "text/plain": [
       "<Figure size 720x576 with 1 Axes>"
      ]
     },
     "metadata": {},
     "output_type": "display_data"
    }
   ],
   "source": [
    "ax = plt.subplots(figsize = (10, 8))\n",
    "sns.set_style('dark')\n",
    "plt.title('Netflix TV-Shows Rating', fontweight = 'bold', fontsize=20)\n",
    "ax = sns.countplot(x = 'rating', data = netflix_tvshows, palette='Set2', order = netflix_tvshows['rating'].value_counts().index[0:15])"
   ]
  },
  {
   "cell_type": "markdown",
   "metadata": {
    "papermill": {
     "duration": 0.063481,
     "end_time": "2021-01-11T15:14:12.854017",
     "exception": false,
     "start_time": "2021-01-11T15:14:12.790536",
     "status": "completed"
    },
    "tags": []
   },
   "source": [
    "Largest Rating in Movies and TV-Shows is of 'TV-MA', according to the TV Parental Guidelines website, means “This program is specifically designed to be viewed by adults and therefore may be unsuitable for children under 17."
   ]
  }
 ],
 "metadata": {
  "kernelspec": {
   "display_name": "Python 3",
   "language": "python",
   "name": "python3"
  },
  "language_info": {
   "codemirror_mode": {
    "name": "ipython",
    "version": 3
   },
   "file_extension": ".py",
   "mimetype": "text/x-python",
   "name": "python",
   "nbconvert_exporter": "python",
   "pygments_lexer": "ipython3",
   "version": "3.8.8"
  },
  "papermill": {
   "duration": 22.691133,
   "end_time": "2021-01-11T15:14:17.611731",
   "environment_variables": {},
   "exception": null,
   "input_path": "__notebook__.ipynb",
   "output_path": "__notebook__.ipynb",
   "parameters": {},
   "start_time": "2021-01-11T15:13:54.920598",
   "version": "2.1.0"
  }
 },
 "nbformat": 4,
 "nbformat_minor": 4
}
